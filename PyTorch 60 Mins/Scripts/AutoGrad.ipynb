{
 "nbformat": 4,
 "nbformat_minor": 2,
 "metadata": {
  "language_info": {
   "name": "python",
   "codemirror_mode": {
    "name": "ipython",
    "version": 3
   },
   "version": "3.7.7-final"
  },
  "orig_nbformat": 2,
  "file_extension": ".py",
  "mimetype": "text/x-python",
  "name": "python",
  "npconvert_exporter": "python",
  "pygments_lexer": "ipython3",
  "version": 3,
  "kernelspec": {
   "name": "python37764bite650467ef4694640988010b9b7823d44",
   "display_name": "Python 3.7.7 64-bit"
  }
 },
 "cells": [
  {
   "cell_type": "code",
   "execution_count": 35,
   "metadata": {},
   "outputs": [],
   "source": [
    "# Import Statements\n",
    "import torch"
   ]
  },
  {
   "cell_type": "code",
   "execution_count": 36,
   "metadata": {},
   "outputs": [
    {
     "output_type": "stream",
     "name": "stdout",
     "text": "tensor([[1., 1.],\n        [1., 1.]], requires_grad=True)\nNone\n"
    }
   ],
   "source": [
    "# The AutoGrad Package (autograd) is a key package for neural networks in PyTorch.\n",
    "# Tensor and Function\n",
    "\n",
    "tensor_one = torch.ones(2, 2, requires_grad=True)\n",
    "print(tensor_one)\n",
    "print(tensor_one.grad_fn)"
   ]
  },
  {
   "cell_type": "code",
   "execution_count": 37,
   "metadata": {},
   "outputs": [
    {
     "output_type": "stream",
     "name": "stdout",
     "text": "tensor([[3., 3.],\n        [3., 3.]], grad_fn=<AddBackward0>)\n"
    }
   ],
   "source": [
    "tensor_two = tensor_one + 2\n",
    "print(tensor_two)"
   ]
  },
  {
   "cell_type": "code",
   "execution_count": 38,
   "metadata": {},
   "outputs": [
    {
     "output_type": "stream",
     "name": "stdout",
     "text": "<AddBackward0 object at 0x0000020B2CD38AC8>\n"
    }
   ],
   "source": [
    "print(tensor_two.grad_fn)"
   ]
  },
  {
   "cell_type": "code",
   "execution_count": 39,
   "metadata": {},
   "outputs": [
    {
     "output_type": "stream",
     "name": "stdout",
     "text": "tensor(27., grad_fn=<MeanBackward1>) tensor([[27., 27.],\n        [27., 27.]], grad_fn=<MulBackward0>)\n"
    }
   ],
   "source": [
    "tensor_three = tensor_two * tensor_two * 3\n",
    "out = tensor_three.mean()\n",
    "print(out, tensor_three)"
   ]
  },
  {
   "cell_type": "code",
   "execution_count": 40,
   "metadata": {},
   "outputs": [
    {
     "output_type": "stream",
     "name": "stdout",
     "text": "None\nFalse\nTrue\n<SumBackward0 object at 0x0000020B2C4A8208>\n"
    }
   ],
   "source": [
    "tensor_four = torch.randn(2, 2)\n",
    "tensor_four = ((tensor_four * 3) / (tensor_four - 1))\n",
    "print(tensor_four.grad_fn)\n",
    "print(tensor_four.requires_grad)\n",
    "tensor_four.requires_grad_(True)\n",
    "print(tensor_four.requires_grad)\n",
    "\n",
    "tensor_five = (tensor_four * tensor_four).sum()\n",
    "print(tensor_five.grad_fn)"
   ]
  },
  {
   "cell_type": "code",
   "execution_count": 41,
   "metadata": {},
   "outputs": [
    {
     "output_type": "stream",
     "name": "stdout",
     "text": "tensor([[4.5000, 4.5000],\n        [4.5000, 4.5000]])\n"
    }
   ],
   "source": [
    "# Gradients\n",
    "out.backward()\n",
    "print(tensor_one.grad)"
   ]
  },
  {
   "cell_type": "code",
   "execution_count": 42,
   "metadata": {},
   "outputs": [
    {
     "output_type": "stream",
     "name": "stdout",
     "text": "tensor([-1165.0070,  -518.5812,  -310.6064], grad_fn=<MulBackward0>)\n"
    }
   ],
   "source": [
    "# Generally speaking, torch.autograd is an engine for computing vector-Jacobian product.\n",
    "tensor_six = torch.randn(3, requires_grad=True)\n",
    "\n",
    "tensor_seven = tensor_six * 2\n",
    "\n",
    "while tensor_seven.data.norm() < 1000:\n",
    "    tensor_seven = tensor_seven * 2\n",
    "print(tensor_seven)"
   ]
  },
  {
   "cell_type": "code",
   "execution_count": 43,
   "metadata": {},
   "outputs": [
    {
     "output_type": "stream",
     "name": "stdout",
     "text": "tensor([1.0240e+02, 1.0240e+03, 1.0240e-01])\n"
    }
   ],
   "source": [
    "tensor_eight = torch.tensor([0.1, 1.0, 0.0001], dtype=torch.float)\n",
    "tensor_seven.backward(tensor_eight)\n",
    "print(tensor_six.grad)"
   ]
  },
  {
   "cell_type": "code",
   "execution_count": 44,
   "metadata": {},
   "outputs": [
    {
     "output_type": "stream",
     "name": "stdout",
     "text": "True\nTrue\nFalse\n"
    }
   ],
   "source": [
    "print(tensor_six.requires_grad)\n",
    "print((tensor_six ** 2).requires_grad)\n",
    "\n",
    "with torch.no_grad():\n",
    "    print((tensor_six ** 2).requires_grad)"
   ]
  },
  {
   "cell_type": "code",
   "execution_count": 45,
   "metadata": {},
   "outputs": [
    {
     "output_type": "stream",
     "name": "stdout",
     "text": "True\nFalse\ntensor(1, dtype=torch.uint8)\n"
    }
   ],
   "source": [
    "print(tensor_six.requires_grad)\n",
    "tensor_nine = tensor_six.detach()\n",
    "print(tensor_nine.requires_grad)\n",
    "print(tensor_six.eq(tensor_nine).all())"
   ]
  },
  {
   "cell_type": "code",
   "execution_count": null,
   "metadata": {},
   "outputs": [],
   "source": []
  }
 ]
}