{
 "nbformat": 4,
 "nbformat_minor": 2,
 "metadata": {
  "language_info": {
   "name": "python",
   "codemirror_mode": {
    "name": "ipython",
    "version": 3
   },
   "version": "3.6.10-final"
  },
  "orig_nbformat": 2,
  "file_extension": ".py",
  "mimetype": "text/x-python",
  "name": "python",
  "npconvert_exporter": "python",
  "pygments_lexer": "ipython3",
  "version": 3,
  "kernelspec": {
   "name": "python361064bitpytorchpython36conda67ab338b5aea4512a55c45a4f56020b8",
   "display_name": "Python 3.6.10 64-bit ('pytorch_python_36': conda)"
  }
 },
 "cells": [
  {
   "cell_type": "code",
   "execution_count": 26,
   "metadata": {},
   "outputs": [],
   "source": [
    "import torch\n",
    "import torchvision as tv\n",
    "from torchvision import datasets, transforms\n",
    "import torch.nn as nn\n",
    "import torch.nn.functional as fxnl\n",
    "import torch.optim as optim\n",
    "from torch.utils.tensorboard import SummaryWriter\n",
    "\n",
    "import matplotlib.pyplot as plt\n",
    "import numpy as np"
   ]
  },
  {
   "cell_type": "code",
   "execution_count": 27,
   "metadata": {},
   "outputs": [],
   "source": [
    "gpu_device = torch.device(\"cuda:0\")\n",
    "\n",
    "# Transforms\n",
    "transform = transforms.Compose(\n",
    "    [transforms.ToTensor(),\n",
    "    transforms.Normalize((0.5, ), (0.5, ))])\n",
    ""
   ]
  },
  {
   "cell_type": "code",
   "execution_count": 28,
   "metadata": {},
   "outputs": [],
   "source": [
    "# Datasets\n",
    "train_set = tv.datasets.FashionMNIST('./dataset', download=True, train=True, transform=transform)\n",
    "test_set = tv.datasets.FashionMNIST('./dataset', download=True, train=False, transform=transform)"
   ]
  },
  {
   "cell_type": "code",
   "execution_count": 29,
   "metadata": {},
   "outputs": [],
   "source": [
    "# Data Loaders\n",
    "train_loader = torch.utils.data.DataLoader(train_set, batch_size=4, shuffle=True, num_workers=2)\n",
    "test_loader = torch.utils.data.DataLoader(test_set, batch_size=4, shuffle=False, num_workers=2)\n",
    "\n",
    "# Classes\n",
    "classes = ('T-shirt/top', 'Trouser', 'Pullover', 'Dress', 'Coat', 'Sandal', 'Shirt', 'Sneaker', 'Bag', 'Ankle Boot')"
   ]
  },
  {
   "cell_type": "code",
   "execution_count": 30,
   "metadata": {},
   "outputs": [],
   "source": [
    "# Helper fxn to show image\n",
    "def display_image(image, one_channel=False):\n",
    "    if one_channel:\n",
    "        image = image.mean(dim=0)\n",
    "    image = image / 2 +0.5\n",
    "    np_image = image.numpy()\n",
    "    if one_channel:\n",
    "        plt.imshow(np_image, cmap=\"Greys\")\n",
    "    else:\n",
    "        plt.imshow(np.transpose(np_image, (1, 2, 0)))"
   ]
  },
  {
   "cell_type": "code",
   "execution_count": 31,
   "metadata": {},
   "outputs": [],
   "source": [
    "# Classifier Model\n",
    "class NeuralNet(nn.Module):\n",
    "    def __init__(self):\n",
    "        super(NeuralNet, self).__init__()\n",
    "\n",
    "        self.conv_layer_one = nn.Conv2d(in_channels=1, out_channels=6, kernel_size=5)\n",
    "        self.pooling_layer_one = nn.MaxPool2d(2, 2)\n",
    "        self.conv_leyer_two = nn.Conv2d(in_channels=6, out_channels=16, kernel_size=5)\n",
    "        self.flatten_layer_one = nn.Linear(16 * 4 * 4, 120)\n",
    "        self.flatten_layer_two = nn.Linear(120, 84)\n",
    "        self.flatten_layer_three = nn.Linear(84, 10)\n",
    "    \n",
    "    def forward(self, input_tensor: torch.Tensor):\n",
    "        input_tensor = self.pooling_layer_one(fxnl.relu(self.conv_layer_one(input_tensor)))\n",
    "        input_tensor = self.pooling_layer_one(fxnl.relu(self.conv_leyer_two(input_tensor)))\n",
    "        input_tensor = input_tensor.view(-1, 16 * 4 * 4)\n",
    "        input_tensor = fxnl.relu(self.flatten_layer_one(input_tensor))\n",
    "        input_tensor = fxnl.relu(self.flatten_layer_two(input_tensor))\n",
    "        input_tensor = self.flatten_layer_three(input_tensor)\n",
    "\n",
    "        return input_tensor"
   ]
  },
  {
   "cell_type": "code",
   "execution_count": 32,
   "metadata": {},
   "outputs": [],
   "source": [
    "neural_net = NeuralNet()#.to(gpu_device)\n",
    "loss_function = nn.CrossEntropyLoss()\n",
    "optimizer_function = optim.SGD(neural_net.parameters(), lr=0.001, momentum=0.9)"
   ]
  },
  {
   "cell_type": "code",
   "execution_count": 33,
   "metadata": {},
   "outputs": [],
   "source": [
    "# default `log_dir` is \"runs\" - we'll be more specific here\n",
    "writer = SummaryWriter('runs/fashion_mnist_experiment_1')"
   ]
  },
  {
   "cell_type": "code",
   "execution_count": 34,
   "metadata": {},
   "outputs": [
    {
     "output_type": "display_data",
     "data": {
      "text/plain": "<Figure size 432x288 with 1 Axes>",
      "image/svg+xml": "<?xml version=\"1.0\" encoding=\"utf-8\" standalone=\"no\"?>\r\n<!DOCTYPE svg PUBLIC \"-//W3C//DTD SVG 1.1//EN\"\r\n  \"http://www.w3.org/Graphics/SVG/1.1/DTD/svg11.dtd\">\r\n<!-- Created with matplotlib (https://matplotlib.org/) -->\r\n<svg height=\"121.321606pt\" version=\"1.1\" viewBox=\"0 0 374.352357 121.321606\" width=\"374.352357pt\" xmlns=\"http://www.w3.org/2000/svg\" xmlns:xlink=\"http://www.w3.org/1999/xlink\">\r\n <defs>\r\n  <style type=\"text/css\">\r\n*{stroke-linecap:butt;stroke-linejoin:round;}\r\n  </style>\r\n </defs>\r\n <g id=\"figure_1\">\r\n  <g id=\"patch_1\">\r\n   <path d=\"M -0 121.321606 \r\nL 374.352357 121.321606 \r\nL 374.352357 0 \r\nL -0 0 \r\nz\r\n\"/>\r\n  </g>\r\n  <g id=\"axes_1\">\r\n   <g id=\"patch_2\">\r\n    <path d=\"M 26.925 97.443481 \r\nL 361.725 97.443481 \r\nL 361.725 9.627088 \r\nL 26.925 9.627088 \r\nz\r\n\"/>\r\n   </g>\r\n   <g clip-path=\"url(#p708a808f88)\">\r\n    <image height=\"88\" id=\"image686b8a9a5d\" transform=\"scale(1 -1)translate(0 -88)\" width=\"335\" x=\"26.925\" xlink:href=\"data:image/png;base64,\r\niVBORw0KGgoAAAANSUhEUgAAAU8AAABYCAYAAAB1aXVlAAAABHNCSVQICAgIfAhkiAAAEdFJREFUeJztnVeMVdUXxj/svYtgRRFFERRlLGAAe2KJGmOsETUYdfCFB/FFjVEe9MlEM2rUaGwoDxaUiFEExYaaAAELKioiiFiwIPb28Het+525a8/hbubOzJn/93ta2becc/bd59zVd5+2trZ/IIQQoiE26O4TEEKIKqKHpxBCZKCHpxBCZKCHpxBCZKCHpxBCZLBRNNja2trV51F57rjjjnBcc9k40Vx2xTz+/fffLr/yyisAgJdeesnHvvjiC5f/+OMPlzfY4H86yDbbbFM3BgAjRoxw+dxzz+28Ey4hd03+808tAadPnz51r3///fcuv/vuuy5//vnnAIC1a9f62Oabbx4eY9NNNwUAbLnllj62xx57uDxkyJAOz7GMsmtolGgupXkKIUQGoeYpxP8j++67r8t77bUXAGC33XbzsR122MHlrbbaymXTWH/55RcfY21n0qRJLv/2228AgHHjxnXWaXc6kab26KOPuvzkk0+6vNNOO7lsc2LXCAAbb7yxyxtuuKHLf/31FwDg119/9bFvvvnG5b59+7psmvugQYN8jDVT/i1Y42820jyFECIDPTyFECIDme1C/Mcuu+zi8siRIwEAP/zwg49xEIIDRgabpVtvvbXLw4cPd3n//ffvnJNtImZSA8C0adMAAAsWLPCxlpYWl9nEN5OZ3Rc8JxttVHvcmLnOr+++++7hObz33nsAgJkzZ4bHve6661w210tnB4wipHkKIUQGengKIUQGodnOKm+KZqnCQnQXX331VZ28xRZb+BjfF2xu2jibmhz1/fTTT13m6H1P5dlnn3V5+vTpAIADDjjAx9asWeMyPwc22WQTAMV5+v33313myDrPlcFzxvO7/fbbAwB+/PFHH+PMB86SiM6L6UxzXpqnEEJkoIenEEJkEJrtjaizrAbPmzfP5dtvv93lAw88EEAtcgcA8+fPd5lL1p5//nkAwJdffuljnJR73HHHuWylX+tyvnaerO5zou2oUaNctoRgO+/27501a5bLV111VemxRTX46aefXH766acBAEceeaSPmfkIFMsO//zzTwDF8s7Fixe7zGWd2267bSeecXMYNmyYy7NnzwZQvDaOmvO9V+bu4++w9/Ln+XsZm2s22w877LDwvdH3NgtpnkIIkUFpnic7fF9//XWXrbyMnbXffvtt+B2mRe69994+NnDgQJf5H/+YY46p+3xbW5vL48ePd3nHHXcEUPyn5FKtiy66yOXPPvsMALDzzjv7GP9Tzpgxw2U7Tz6vV1991WVragDUNOUxY8bUnbeoFrx2LMjDVgZbLbwGbB3yeuESRb6HNttss0484+ZgpalArdkHl0syUQAm0jD5dZZTmqsFn4C45JJzZ5muDGRL8xRCiAz08BRCiAxCs33hwoUuX3zxxS5zhxRzpPfr18/HWGWOTJhVq1b5GOd5sYpuqjvn1+25554u77rrri5bGRjnjy1fvtzlCRMmuGzOfnY0p5zg5phm04v7DnI+oPJdew9sUluQgsss+bfmgKa5hHht8vpmd0AqKNJTsR6bfC/w/couiQi+xxibSzbVUya+lcLyM6GszHVdctXXF2meQgiRgR6eQgiRQWhDcA4mR7LZfF66dCkA4KOPPvIxi8wBtdw3oKa6synP6v53333nspnXHBXnkjY2e7iEq/3ngVoUlOFzYHOKZTs2mw5s0vG59e/fv+4Yoppw7qaZimz+8dpjNw7LRsot1ZXNejsDa0Rs+Z4AMHjwYJfZnG+EyN3FY3xv2zE4zzOVtVBmrnemm61av6QQQvQQ9PAUQogMQrOd91eZM2eOy1OnTnXZ1GM2k9msYdPWTBg2WXgHPn7v6tWrARSjmStXrnSZk5MtaZnNeja/o0asrNYvW7YsPHdzKXAUn/dq+fnnn1228kxOomc42mimIF9DGTYfQK0pbPvj2XtSe+jwro7W8Hfo0KE+xu4YNjet6IFdM0uWLHGZTTYzozg6zdkZ3OjWihC4/LWROWkWbAraPPB6iX5LIE4OZ1I7SFaBsWPHAigWCzRi+vI9H81l1Ey5/bi5AAcMGOBjkcsudW7NirxL8xRCiAxKk874Cc+O8fPOOw8AcPbZZ/sYB09YC7KGIW+//baPsQbD2o59joNP7Cjmf3wL/nBDEv4u/sc3p32qHIyDS3w8g7XbFStWuMwadAT/m0baFZe03nLLLS5PmTKl7lj8W2y33XYuW/4ba30chGONyHJUU//GkSbAGhk3tuBx08ZTARYO1NlcfvDBB+H5dhdsRdmcRTs+th+PSg35vay5Vw37jTnHktcTX7ONr0vPzGjO+HujEk9e3/x6WRBO23AIIUQPQg9PIYTIoNRsv/POO11+5JFHXLZgzcsvv+xjvGk9m7lWtsa9ERk25805zGYpm3RRhxoOEqUCFmZWrl27tu4agGIunu2YyOYHm+dff/21y5988kl4TRH33nsvAODFF1/0sblz57rM5oUFWKw8rv35ROVr7AJglwVf8xFHHAGgaHayOyFyizA8p2zK2fmwKc/fG5X38ed564fugtecwdfLay/qEMRwnjOvyaphXcNSgWEmcgWVmcypIBGvHbvf9tlnHx/jgOno0aNdti1Cjj32WB/jeyzaPiXXrJfmKYQQGejhKYQQGZTunslqLjcXLoNzJC0PkTsescnMZreZjWyqcz4gR+nt3FI5X2w6mRnAY6lMAssn43NIdX8xU+Kdd94Jz+HNN990+fLLLwcA3HDDDT529dVXu8x5tLb1CEe32bXAjanNzcD5nMwJJ5zgsmUSsDnK2QV8zfa97I5pBDazeH7N7OMuRGeddZbLd999d9bx1hdek0YqOyNyoUS5iUBxHqqG3QuLFi3ysZSpHXVKYqI82JT7g9e6uXd4zXM2wwsvvOCyrS3e7fO2225zeeLEieHxcpDmKYQQGejhKYQQGZTunrkuydQRHHU184zNtMMPP9xlNiEffPBBAMVSLOvg1H7c9pmJyjCBoulkcISXo9B8nWb+csQ69b3mUkiZ7RbdBoqmRgSXMNqOi2xGv/HGG+HnUua6MXPmTJetPJOj6mzWcyNs+9zBBx8cfi8XMljWASf1s5uG5+f9998HAJx44ok+1hOaBEc7W/LaSiVxR0navEbKGvf2ZGzvIp6HKGINxO6LFNF7U12rLNrOpcq8dxrfF7au99tvPx/jIpqnnnrK5TPOOKP0PDtCmqcQQmRQ+nef+hdppNje3psqo+KtPsxRbHunA8VcR94Cw3LPuBQ0FTyycf53SzV9sKYkrKVyUIU1yDKtLyKltfAOhQ899BCA4rWdeeaZLl9//fUdHoPzcxk7Hv+zc8MR1phsJ1NuCnHIIYe4zL8Ly1Ul2iEytWZTJYrR66mdHquANe3hHGL+rSONNNUMJJrL1B7wPG7bnHAeLluNLHOgKfouzg+V5imEEN2AHp5CCJFBtpe+kRypsh57/Pr5558PoNitifNLua+mlUxaPiJQdCpHXXLYFGcVn80sCxxw/in3F+VziMwEJnJvpEzBqGsPB62ee+65Do/F197a2uoy9+60UkHOmePAD8+Z5eqmzM7Jkye7fMkllwAoBgWrxsCBA+vGuHdras3b7xmVzALpsuQqYO6dqItU+3Gbh7KAEpPa6oZNcbsPeedbXut8PAsuWdc3oJinfNlll9WdQy7SPIUQIgM9PIUQIoNuS64ryyXl3E+OvB911FEuWwNjzuni7+VmuxZFZrOdYVPazGfuKsQNbcePHx9+R0TulgXmRmB3ApsnHBW3ubrpppt87Pjjj3eZTU9zdZiZDRTz5LisNup+xL/L448/7vLDDz8MoJirymW1l156qcupvNHuhrcjsQhtamuNKIrM72V3C+ckVg27Nl4DfF9wbqyNp9xS0T3GcNcqft3uY84N565LvGYNzlLh9bZq1SqX1zf/VpqnEEJkoIenEEJk0P01cWjMtGUT88orrwRQjBZzB5vFixe7bKo9v5cTxTmCbqYpq/VsqnA5Y7OIIripnQYNdicMGzbMZW4Wa0nuI0eO9LH777+/7nWgViLKu5tG0VWglo3AxQTcieexxx5z2Uo5ef5T5nFXYrt6ArEpzqY6uy/sPWxq8nqqcgaCMWjQIJfnz5/vMt8L5tpal8ICc4uk7n1eZwsWLABQvLd5rbMLy7JF+LfidWbdyoCaa6WlpSU8hzKkeQohRAY9QvMsI1XOOGnSJADFfyTOqeMAgGmOb731lo+dfPLJLn/88ccuH3TQQQCK/R25DHP27NkupwJQOZTlwTFRGeqQIUNcZi2ora3NZbu2Cy64wMcmTJjg8vTp010eM2YMgNpWDO3hrUlMs2Rt0zRXoLgVBWsCRrN2OGwE/i2tFJDzNbnMLypB5K1G+LeoGlFuppXqAkXtjS05y8dMbVcS9QFlS4WDPCyb5s7aPP8uHDwyi4CPxefDa4+trBykeQohRAZ6eAohRAaVMNtTJp05+KdMmeJj1g8UKDrqZ8yYAaCYexj1bwSAJ554AkAxN5FL97g/5uDBg8svoIuIyjuBollujB071uVnnnkm/FxZ5ybucnPFFVc0dK5Aeeled2J9VLn8loNEnFtopiDn03amO6cnwJ2UuGx55cqVLluv2KiPbvvxKJead6U19xJQCwxzmSW78ris034vXsfciY1dfPx75iDNUwghMtDDUwghMqi02W6w+c3dWDgKZ2Y35yyyus/NXq3ckzsMPfDAAy6bGQHUckHnzp1bchXNJ9XNJirxtHJKAJg2bZrLnBt79NFH1x2jrAl2WfNbpqeZ6ozlEd51110+xhkD0VxzBJjLiBl7b0++9ujc2MRl9xD/xpZ9kcqNjb6Py1jZVGf5wgsvBACcdtppPpbaFsS+j90t7A445ZRTwvPJQZqnEEJkoIenEEJkUAmznYkS5k866SQfu+aaa1zmhFhLYOYoqO2+CRSTxq0zEJskljAOFJNuU5HF7ibVsDbi9NNPD+Wy7815vSpEezLxeuCE+Wjvnp6UhdHZcEkmR7KtkITXAJv7nI1g9xC71vh+tZJMoNYYnU38VKmsFbZwkj27GbjMdH2R5imEEBlUTvOMNBvWrG699VaX77vvPpethT8HjPjfjTXSJUuWACj+e3GfStZYWRa9BwsgphqzlK1DLl3tbRx66KEuc151//79ARRLLpkoH5M1T9YQ+T416457cbLmyXmnFjzmAPCAAQPqjtsZSPMUQogM9PAUQogMeoXZzvD2E7ZNBwDceOONAIDXXnvNxzhvj0u/rNsKO6i56xL3wjz11FMBFPNARfWxHVlTXYE4p9PMSjY7ueywyliAlq+dczDZDLY5iYJpQNE1ZnPFn+f5iwKefD/z/LLZbvf0smXLfOycc85JXd56Ic1TCCEy0MNTCCEyqJzZHpHqzjN8+HCXrYHr0qVLfSzV7FgI2xmUzU42K6NyRV5DvLUJd7WqWh6snS/fYxw1ZxeWbc/Rr18/H1u9erXLbPrb/EW7aLY/npninAfKOaPc3cu+lxtTDx06tMNj5P4m0jyFECIDPTyFECKDXmG2N6J2c8KsECnMFOTyWy6aiDr5sKmZMkerht1bXBbN9xt3j/rwww/rXudIuGUwADVTvG/fvuHrHLG3iDzPLzej5q5qFoXn/YlSTY/X14UizVMIITLoFZqnEJ0Ba4vLly8HUNQwuZSQx01LWrNmjY/xzqFVpiyowjta2vxx45wVK1a4zIEm2+aEG4twCTRriyaztsm9djkoZbt5tra2dng9HV3TuiLNUwghMtDDUwghMpDZLsR/cEBo3LhxAICFCxf62Lx581zmIIUFOjivmHdu7cm7hJYRnW+ql6btyDp16lQfsx1uAWDixIkuW2Dn5ptv9rFFixa5zCZ+lOdpbhWg2MHq2muvrft82dYxuUjzFEKIDPTwFEKIDGS2C/EfnJN4zz33AChG4EeMGOEydwMyE3HWrFnNPsUup5ESxlGjRgEAWlpafCzVfNjmevLkyeHrvAuuRdDnzJnjY6NHj3aZ3SVWAtosU52R5imEEBno4SmEEBn0aWtra75+K4QQvQxpnkIIkYEenkIIkYEenkIIkYEenkIIkcG/8sEXV0R6D7wAAAAASUVORK5CYII=\" y=\"-9.443481\"/>\r\n   </g>\r\n   <g id=\"matplotlib.axis_1\">\r\n    <g id=\"xtick_1\">\r\n     <g id=\"line2d_1\">\r\n      <defs>\r\n       <path d=\"M 0 0 \r\nL 0 3.5 \r\n\" id=\"mf8a64ced81\" style=\"stroke:#ffffff;stroke-width:0.8;\"/>\r\n      </defs>\r\n      <g>\r\n       <use style=\"fill:#ffffff;stroke:#ffffff;stroke-width:0.8;\" x=\"28.297131\" xlink:href=\"#mf8a64ced81\" y=\"97.443481\"/>\r\n      </g>\r\n     </g>\r\n     <g id=\"text_1\">\r\n      <!-- 0 -->\r\n      <defs>\r\n       <path d=\"M 31.78125 66.40625 \r\nQ 24.171875 66.40625 20.328125 58.90625 \r\nQ 16.5 51.421875 16.5 36.375 \r\nQ 16.5 21.390625 20.328125 13.890625 \r\nQ 24.171875 6.390625 31.78125 6.390625 \r\nQ 39.453125 6.390625 43.28125 13.890625 \r\nQ 47.125 21.390625 47.125 36.375 \r\nQ 47.125 51.421875 43.28125 58.90625 \r\nQ 39.453125 66.40625 31.78125 66.40625 \r\nz\r\nM 31.78125 74.21875 \r\nQ 44.046875 74.21875 50.515625 64.515625 \r\nQ 56.984375 54.828125 56.984375 36.375 \r\nQ 56.984375 17.96875 50.515625 8.265625 \r\nQ 44.046875 -1.421875 31.78125 -1.421875 \r\nQ 19.53125 -1.421875 13.0625 8.265625 \r\nQ 6.59375 17.96875 6.59375 36.375 \r\nQ 6.59375 54.828125 13.0625 64.515625 \r\nQ 19.53125 74.21875 31.78125 74.21875 \r\nz\r\n\" id=\"DejaVuSans-48\"/>\r\n      </defs>\r\n      <g style=\"fill:#ffffff;\" transform=\"translate(25.115881 112.041919)scale(0.1 -0.1)\">\r\n       <use xlink:href=\"#DejaVuSans-48\"/>\r\n      </g>\r\n     </g>\r\n    </g>\r\n    <g id=\"xtick_2\">\r\n     <g id=\"line2d_2\">\r\n      <g>\r\n       <use style=\"fill:#ffffff;stroke:#ffffff;stroke-width:0.8;\" x=\"83.182377\" xlink:href=\"#mf8a64ced81\" y=\"97.443481\"/>\r\n      </g>\r\n     </g>\r\n     <g id=\"text_2\">\r\n      <!-- 20 -->\r\n      <defs>\r\n       <path d=\"M 19.1875 8.296875 \r\nL 53.609375 8.296875 \r\nL 53.609375 0 \r\nL 7.328125 0 \r\nL 7.328125 8.296875 \r\nQ 12.9375 14.109375 22.625 23.890625 \r\nQ 32.328125 33.6875 34.8125 36.53125 \r\nQ 39.546875 41.84375 41.421875 45.53125 \r\nQ 43.3125 49.21875 43.3125 52.78125 \r\nQ 43.3125 58.59375 39.234375 62.25 \r\nQ 35.15625 65.921875 28.609375 65.921875 \r\nQ 23.96875 65.921875 18.8125 64.3125 \r\nQ 13.671875 62.703125 7.8125 59.421875 \r\nL 7.8125 69.390625 \r\nQ 13.765625 71.78125 18.9375 73 \r\nQ 24.125 74.21875 28.421875 74.21875 \r\nQ 39.75 74.21875 46.484375 68.546875 \r\nQ 53.21875 62.890625 53.21875 53.421875 \r\nQ 53.21875 48.921875 51.53125 44.890625 \r\nQ 49.859375 40.875 45.40625 35.40625 \r\nQ 44.1875 33.984375 37.640625 27.21875 \r\nQ 31.109375 20.453125 19.1875 8.296875 \r\nz\r\n\" id=\"DejaVuSans-50\"/>\r\n      </defs>\r\n      <g style=\"fill:#ffffff;\" transform=\"translate(76.819877 112.041919)scale(0.1 -0.1)\">\r\n       <use xlink:href=\"#DejaVuSans-50\"/>\r\n       <use x=\"63.623047\" xlink:href=\"#DejaVuSans-48\"/>\r\n      </g>\r\n     </g>\r\n    </g>\r\n    <g id=\"xtick_3\">\r\n     <g id=\"line2d_3\">\r\n      <g>\r\n       <use style=\"fill:#ffffff;stroke:#ffffff;stroke-width:0.8;\" x=\"138.067623\" xlink:href=\"#mf8a64ced81\" y=\"97.443481\"/>\r\n      </g>\r\n     </g>\r\n     <g id=\"text_3\">\r\n      <!-- 40 -->\r\n      <defs>\r\n       <path d=\"M 37.796875 64.3125 \r\nL 12.890625 25.390625 \r\nL 37.796875 25.390625 \r\nz\r\nM 35.203125 72.90625 \r\nL 47.609375 72.90625 \r\nL 47.609375 25.390625 \r\nL 58.015625 25.390625 \r\nL 58.015625 17.1875 \r\nL 47.609375 17.1875 \r\nL 47.609375 0 \r\nL 37.796875 0 \r\nL 37.796875 17.1875 \r\nL 4.890625 17.1875 \r\nL 4.890625 26.703125 \r\nz\r\n\" id=\"DejaVuSans-52\"/>\r\n      </defs>\r\n      <g style=\"fill:#ffffff;\" transform=\"translate(131.705123 112.041919)scale(0.1 -0.1)\">\r\n       <use xlink:href=\"#DejaVuSans-52\"/>\r\n       <use x=\"63.623047\" xlink:href=\"#DejaVuSans-48\"/>\r\n      </g>\r\n     </g>\r\n    </g>\r\n    <g id=\"xtick_4\">\r\n     <g id=\"line2d_4\">\r\n      <g>\r\n       <use style=\"fill:#ffffff;stroke:#ffffff;stroke-width:0.8;\" x=\"192.952869\" xlink:href=\"#mf8a64ced81\" y=\"97.443481\"/>\r\n      </g>\r\n     </g>\r\n     <g id=\"text_4\">\r\n      <!-- 60 -->\r\n      <defs>\r\n       <path d=\"M 33.015625 40.375 \r\nQ 26.375 40.375 22.484375 35.828125 \r\nQ 18.609375 31.296875 18.609375 23.390625 \r\nQ 18.609375 15.53125 22.484375 10.953125 \r\nQ 26.375 6.390625 33.015625 6.390625 \r\nQ 39.65625 6.390625 43.53125 10.953125 \r\nQ 47.40625 15.53125 47.40625 23.390625 \r\nQ 47.40625 31.296875 43.53125 35.828125 \r\nQ 39.65625 40.375 33.015625 40.375 \r\nz\r\nM 52.59375 71.296875 \r\nL 52.59375 62.3125 \r\nQ 48.875 64.0625 45.09375 64.984375 \r\nQ 41.3125 65.921875 37.59375 65.921875 \r\nQ 27.828125 65.921875 22.671875 59.328125 \r\nQ 17.53125 52.734375 16.796875 39.40625 \r\nQ 19.671875 43.65625 24.015625 45.921875 \r\nQ 28.375 48.1875 33.59375 48.1875 \r\nQ 44.578125 48.1875 50.953125 41.515625 \r\nQ 57.328125 34.859375 57.328125 23.390625 \r\nQ 57.328125 12.15625 50.6875 5.359375 \r\nQ 44.046875 -1.421875 33.015625 -1.421875 \r\nQ 20.359375 -1.421875 13.671875 8.265625 \r\nQ 6.984375 17.96875 6.984375 36.375 \r\nQ 6.984375 53.65625 15.1875 63.9375 \r\nQ 23.390625 74.21875 37.203125 74.21875 \r\nQ 40.921875 74.21875 44.703125 73.484375 \r\nQ 48.484375 72.75 52.59375 71.296875 \r\nz\r\n\" id=\"DejaVuSans-54\"/>\r\n      </defs>\r\n      <g style=\"fill:#ffffff;\" transform=\"translate(186.590369 112.041919)scale(0.1 -0.1)\">\r\n       <use xlink:href=\"#DejaVuSans-54\"/>\r\n       <use x=\"63.623047\" xlink:href=\"#DejaVuSans-48\"/>\r\n      </g>\r\n     </g>\r\n    </g>\r\n    <g id=\"xtick_5\">\r\n     <g id=\"line2d_5\">\r\n      <g>\r\n       <use style=\"fill:#ffffff;stroke:#ffffff;stroke-width:0.8;\" x=\"247.838115\" xlink:href=\"#mf8a64ced81\" y=\"97.443481\"/>\r\n      </g>\r\n     </g>\r\n     <g id=\"text_5\">\r\n      <!-- 80 -->\r\n      <defs>\r\n       <path d=\"M 31.78125 34.625 \r\nQ 24.75 34.625 20.71875 30.859375 \r\nQ 16.703125 27.09375 16.703125 20.515625 \r\nQ 16.703125 13.921875 20.71875 10.15625 \r\nQ 24.75 6.390625 31.78125 6.390625 \r\nQ 38.8125 6.390625 42.859375 10.171875 \r\nQ 46.921875 13.96875 46.921875 20.515625 \r\nQ 46.921875 27.09375 42.890625 30.859375 \r\nQ 38.875 34.625 31.78125 34.625 \r\nz\r\nM 21.921875 38.8125 \r\nQ 15.578125 40.375 12.03125 44.71875 \r\nQ 8.5 49.078125 8.5 55.328125 \r\nQ 8.5 64.0625 14.71875 69.140625 \r\nQ 20.953125 74.21875 31.78125 74.21875 \r\nQ 42.671875 74.21875 48.875 69.140625 \r\nQ 55.078125 64.0625 55.078125 55.328125 \r\nQ 55.078125 49.078125 51.53125 44.71875 \r\nQ 48 40.375 41.703125 38.8125 \r\nQ 48.828125 37.15625 52.796875 32.3125 \r\nQ 56.78125 27.484375 56.78125 20.515625 \r\nQ 56.78125 9.90625 50.3125 4.234375 \r\nQ 43.84375 -1.421875 31.78125 -1.421875 \r\nQ 19.734375 -1.421875 13.25 4.234375 \r\nQ 6.78125 9.90625 6.78125 20.515625 \r\nQ 6.78125 27.484375 10.78125 32.3125 \r\nQ 14.796875 37.15625 21.921875 38.8125 \r\nz\r\nM 18.3125 54.390625 \r\nQ 18.3125 48.734375 21.84375 45.5625 \r\nQ 25.390625 42.390625 31.78125 42.390625 \r\nQ 38.140625 42.390625 41.71875 45.5625 \r\nQ 45.3125 48.734375 45.3125 54.390625 \r\nQ 45.3125 60.0625 41.71875 63.234375 \r\nQ 38.140625 66.40625 31.78125 66.40625 \r\nQ 25.390625 66.40625 21.84375 63.234375 \r\nQ 18.3125 60.0625 18.3125 54.390625 \r\nz\r\n\" id=\"DejaVuSans-56\"/>\r\n      </defs>\r\n      <g style=\"fill:#ffffff;\" transform=\"translate(241.475615 112.041919)scale(0.1 -0.1)\">\r\n       <use xlink:href=\"#DejaVuSans-56\"/>\r\n       <use x=\"63.623047\" xlink:href=\"#DejaVuSans-48\"/>\r\n      </g>\r\n     </g>\r\n    </g>\r\n    <g id=\"xtick_6\">\r\n     <g id=\"line2d_6\">\r\n      <g>\r\n       <use style=\"fill:#ffffff;stroke:#ffffff;stroke-width:0.8;\" x=\"302.723361\" xlink:href=\"#mf8a64ced81\" y=\"97.443481\"/>\r\n      </g>\r\n     </g>\r\n     <g id=\"text_6\">\r\n      <!-- 100 -->\r\n      <defs>\r\n       <path d=\"M 12.40625 8.296875 \r\nL 28.515625 8.296875 \r\nL 28.515625 63.921875 \r\nL 10.984375 60.40625 \r\nL 10.984375 69.390625 \r\nL 28.421875 72.90625 \r\nL 38.28125 72.90625 \r\nL 38.28125 8.296875 \r\nL 54.390625 8.296875 \r\nL 54.390625 0 \r\nL 12.40625 0 \r\nz\r\n\" id=\"DejaVuSans-49\"/>\r\n      </defs>\r\n      <g style=\"fill:#ffffff;\" transform=\"translate(293.179611 112.041919)scale(0.1 -0.1)\">\r\n       <use xlink:href=\"#DejaVuSans-49\"/>\r\n       <use x=\"63.623047\" xlink:href=\"#DejaVuSans-48\"/>\r\n       <use x=\"127.246094\" xlink:href=\"#DejaVuSans-48\"/>\r\n      </g>\r\n     </g>\r\n    </g>\r\n    <g id=\"xtick_7\">\r\n     <g id=\"line2d_7\">\r\n      <g>\r\n       <use style=\"fill:#ffffff;stroke:#ffffff;stroke-width:0.8;\" x=\"357.608607\" xlink:href=\"#mf8a64ced81\" y=\"97.443481\"/>\r\n      </g>\r\n     </g>\r\n     <g id=\"text_7\">\r\n      <!-- 120 -->\r\n      <g style=\"fill:#ffffff;\" transform=\"translate(348.064857 112.041919)scale(0.1 -0.1)\">\r\n       <use xlink:href=\"#DejaVuSans-49\"/>\r\n       <use x=\"63.623047\" xlink:href=\"#DejaVuSans-50\"/>\r\n       <use x=\"127.246094\" xlink:href=\"#DejaVuSans-48\"/>\r\n      </g>\r\n     </g>\r\n    </g>\r\n   </g>\r\n   <g id=\"matplotlib.axis_2\">\r\n    <g id=\"ytick_1\">\r\n     <g id=\"line2d_8\">\r\n      <defs>\r\n       <path d=\"M 0 0 \r\nL -3.5 0 \r\n\" id=\"m76e1c9e9b6\" style=\"stroke:#ffffff;stroke-width:0.8;\"/>\r\n      </defs>\r\n      <g>\r\n       <use style=\"fill:#ffffff;stroke:#ffffff;stroke-width:0.8;\" x=\"26.925\" xlink:href=\"#m76e1c9e9b6\" y=\"10.999219\"/>\r\n      </g>\r\n     </g>\r\n     <g id=\"text_8\">\r\n      <!-- 0 -->\r\n      <g style=\"fill:#ffffff;\" transform=\"translate(13.5625 14.798437)scale(0.1 -0.1)\">\r\n       <use xlink:href=\"#DejaVuSans-48\"/>\r\n      </g>\r\n     </g>\r\n    </g>\r\n    <g id=\"ytick_2\">\r\n     <g id=\"line2d_9\">\r\n      <g>\r\n       <use style=\"fill:#ffffff;stroke:#ffffff;stroke-width:0.8;\" x=\"26.925\" xlink:href=\"#m76e1c9e9b6\" y=\"38.441842\"/>\r\n      </g>\r\n     </g>\r\n     <g id=\"text_9\">\r\n      <!-- 10 -->\r\n      <g style=\"fill:#ffffff;\" transform=\"translate(7.2 42.24106)scale(0.1 -0.1)\">\r\n       <use xlink:href=\"#DejaVuSans-49\"/>\r\n       <use x=\"63.623047\" xlink:href=\"#DejaVuSans-48\"/>\r\n      </g>\r\n     </g>\r\n    </g>\r\n    <g id=\"ytick_3\">\r\n     <g id=\"line2d_10\">\r\n      <g>\r\n       <use style=\"fill:#ffffff;stroke:#ffffff;stroke-width:0.8;\" x=\"26.925\" xlink:href=\"#m76e1c9e9b6\" y=\"65.884465\"/>\r\n      </g>\r\n     </g>\r\n     <g id=\"text_10\">\r\n      <!-- 20 -->\r\n      <g style=\"fill:#ffffff;\" transform=\"translate(7.2 69.683683)scale(0.1 -0.1)\">\r\n       <use xlink:href=\"#DejaVuSans-50\"/>\r\n       <use x=\"63.623047\" xlink:href=\"#DejaVuSans-48\"/>\r\n      </g>\r\n     </g>\r\n    </g>\r\n    <g id=\"ytick_4\">\r\n     <g id=\"line2d_11\">\r\n      <g>\r\n       <use style=\"fill:#ffffff;stroke:#ffffff;stroke-width:0.8;\" x=\"26.925\" xlink:href=\"#m76e1c9e9b6\" y=\"93.327088\"/>\r\n      </g>\r\n     </g>\r\n     <g id=\"text_11\">\r\n      <!-- 30 -->\r\n      <defs>\r\n       <path d=\"M 40.578125 39.3125 \r\nQ 47.65625 37.796875 51.625 33 \r\nQ 55.609375 28.21875 55.609375 21.1875 \r\nQ 55.609375 10.40625 48.1875 4.484375 \r\nQ 40.765625 -1.421875 27.09375 -1.421875 \r\nQ 22.515625 -1.421875 17.65625 -0.515625 \r\nQ 12.796875 0.390625 7.625 2.203125 \r\nL 7.625 11.71875 \r\nQ 11.71875 9.328125 16.59375 8.109375 \r\nQ 21.484375 6.890625 26.8125 6.890625 \r\nQ 36.078125 6.890625 40.9375 10.546875 \r\nQ 45.796875 14.203125 45.796875 21.1875 \r\nQ 45.796875 27.640625 41.28125 31.265625 \r\nQ 36.765625 34.90625 28.71875 34.90625 \r\nL 20.21875 34.90625 \r\nL 20.21875 43.015625 \r\nL 29.109375 43.015625 \r\nQ 36.375 43.015625 40.234375 45.921875 \r\nQ 44.09375 48.828125 44.09375 54.296875 \r\nQ 44.09375 59.90625 40.109375 62.90625 \r\nQ 36.140625 65.921875 28.71875 65.921875 \r\nQ 24.65625 65.921875 20.015625 65.03125 \r\nQ 15.375 64.15625 9.8125 62.3125 \r\nL 9.8125 71.09375 \r\nQ 15.4375 72.65625 20.34375 73.4375 \r\nQ 25.25 74.21875 29.59375 74.21875 \r\nQ 40.828125 74.21875 47.359375 69.109375 \r\nQ 53.90625 64.015625 53.90625 55.328125 \r\nQ 53.90625 49.265625 50.4375 45.09375 \r\nQ 46.96875 40.921875 40.578125 39.3125 \r\nz\r\n\" id=\"DejaVuSans-51\"/>\r\n      </defs>\r\n      <g style=\"fill:#ffffff;\" transform=\"translate(7.2 97.126306)scale(0.1 -0.1)\">\r\n       <use xlink:href=\"#DejaVuSans-51\"/>\r\n       <use x=\"63.623047\" xlink:href=\"#DejaVuSans-48\"/>\r\n      </g>\r\n     </g>\r\n    </g>\r\n   </g>\r\n   <g id=\"patch_3\">\r\n    <path d=\"M 26.925 97.443481 \r\nL 26.925 9.627088 \r\n\" style=\"fill:none;stroke:#ffffff;stroke-linecap:square;stroke-linejoin:miter;stroke-width:0.8;\"/>\r\n   </g>\r\n   <g id=\"patch_4\">\r\n    <path d=\"M 361.725 97.443481 \r\nL 361.725 9.627088 \r\n\" style=\"fill:none;stroke:#ffffff;stroke-linecap:square;stroke-linejoin:miter;stroke-width:0.8;\"/>\r\n   </g>\r\n   <g id=\"patch_5\">\r\n    <path d=\"M 26.925 97.443481 \r\nL 361.725 97.443481 \r\n\" style=\"fill:none;stroke:#ffffff;stroke-linecap:square;stroke-linejoin:miter;stroke-width:0.8;\"/>\r\n   </g>\r\n   <g id=\"patch_6\">\r\n    <path d=\"M 26.925 9.627088 \r\nL 361.725 9.627088 \r\n\" style=\"fill:none;stroke:#ffffff;stroke-linecap:square;stroke-linejoin:miter;stroke-width:0.8;\"/>\r\n   </g>\r\n  </g>\r\n </g>\r\n <defs>\r\n  <clipPath id=\"p708a808f88\">\r\n   <rect height=\"87.816393\" width=\"334.8\" x=\"26.925\" y=\"9.627088\"/>\r\n  </clipPath>\r\n </defs>\r\n</svg>\r\n",
      "image/png": "[encoded data removed]"
     },
     "metadata": {}
    }
   ],
   "source": [
    "# Writing to TensorBoard\n",
    "data_iterator = iter(train_loader)\n",
    "images, labels = data_iterator.next()\n",
    "\n",
    "image_grid = tv.utils.make_grid(images)\n",
    "\n",
    "display_image(image=image_grid, one_channel=True)\n",
    "\n",
    ""
   ]
  },
  {
   "cell_type": "code",
   "execution_count": 35,
   "metadata": {},
   "outputs": [],
   "source": [
    "#Write to tensorboard\n",
    "writer.add_image(\"four_fashion_mnist_images\", image_grid)"
   ]
  },
  {
   "cell_type": "code",
   "execution_count": 36,
   "metadata": {},
   "outputs": [],
   "source": [
    "# Inspect the Model using tensorboard\n",
    "writer.add_graph(neural_net, images)\n",
    "writer.close()"
   ]
  },
  {
   "cell_type": "code",
   "execution_count": 37,
   "metadata": {},
   "outputs": [],
   "source": [
    "# Adding a Projector to TensorBoard\n",
    "def select_n_random(data, labels, num=10):\n",
    "    assert len(data) == len(labels)\n",
    "\n",
    "    permutation = torch.randperm(len(data))\n",
    "    return data[permutation][:num], labels[permutation][:num]\n",
    ""
   ]
  },
  {
   "cell_type": "code",
   "execution_count": 38,
   "metadata": {},
   "outputs": [
    {
     "output_type": "error",
     "ename": "AttributeError",
     "evalue": "module 'tensorflow._api.v1.io.gfile' has no attribute 'get_filesystem'",
     "traceback": [
      "\u001b[1;31m---------------------------------------------------------------------------\u001b[0m",
      "\u001b[1;31mAttributeError\u001b[0m                            Traceback (most recent call last)",
      "\u001b[1;32m<ipython-input-38-4df7baddc227>\u001b[0m in \u001b[0;36m<module>\u001b[1;34m\u001b[0m\n\u001b[0;32m      5\u001b[0m \u001b[0mfeatures\u001b[0m \u001b[1;33m=\u001b[0m \u001b[0mimages\u001b[0m\u001b[1;33m.\u001b[0m\u001b[0mview\u001b[0m\u001b[1;33m(\u001b[0m\u001b[1;33m-\u001b[0m\u001b[1;36m1\u001b[0m\u001b[1;33m,\u001b[0m \u001b[1;36m28\u001b[0m \u001b[1;33m*\u001b[0m \u001b[1;36m28\u001b[0m\u001b[1;33m)\u001b[0m\u001b[1;33m\u001b[0m\u001b[1;33m\u001b[0m\u001b[0m\n\u001b[0;32m      6\u001b[0m \u001b[1;33m\u001b[0m\u001b[0m\n\u001b[1;32m----> 7\u001b[1;33m \u001b[0mwriter\u001b[0m\u001b[1;33m.\u001b[0m\u001b[0madd_embedding\u001b[0m\u001b[1;33m(\u001b[0m\u001b[0mfeatures\u001b[0m\u001b[1;33m,\u001b[0m \u001b[0mmetadata\u001b[0m\u001b[1;33m=\u001b[0m\u001b[0mclass_labels\u001b[0m\u001b[1;33m,\u001b[0m \u001b[0mlabel_img\u001b[0m\u001b[1;33m=\u001b[0m\u001b[0mimages\u001b[0m\u001b[1;33m.\u001b[0m\u001b[0munsqueeze\u001b[0m\u001b[1;33m(\u001b[0m\u001b[1;36m1\u001b[0m\u001b[1;33m)\u001b[0m\u001b[1;33m)\u001b[0m\u001b[1;33m\u001b[0m\u001b[1;33m\u001b[0m\u001b[0m\n\u001b[0m\u001b[0;32m      8\u001b[0m \u001b[0mwriter\u001b[0m\u001b[1;33m.\u001b[0m\u001b[0mclose\u001b[0m\u001b[1;33m(\u001b[0m\u001b[1;33m)\u001b[0m\u001b[1;33m\u001b[0m\u001b[1;33m\u001b[0m\u001b[0m\n",
      "\u001b[1;32mD:\\Users\\onots\\Anaconda3\\envs\\pytorch_python_36\\lib\\site-packages\\torch\\utils\\tensorboard\\writer.py\u001b[0m in \u001b[0;36madd_embedding\u001b[1;34m(self, mat, metadata, label_img, global_step, tag, metadata_header)\u001b[0m\n\u001b[0;32m    779\u001b[0m         \u001b[0msave_path\u001b[0m \u001b[1;33m=\u001b[0m \u001b[0mos\u001b[0m\u001b[1;33m.\u001b[0m\u001b[0mpath\u001b[0m\u001b[1;33m.\u001b[0m\u001b[0mjoin\u001b[0m\u001b[1;33m(\u001b[0m\u001b[0mself\u001b[0m\u001b[1;33m.\u001b[0m\u001b[0m_get_file_writer\u001b[0m\u001b[1;33m(\u001b[0m\u001b[1;33m)\u001b[0m\u001b[1;33m.\u001b[0m\u001b[0mget_logdir\u001b[0m\u001b[1;33m(\u001b[0m\u001b[1;33m)\u001b[0m\u001b[1;33m,\u001b[0m \u001b[0msubdir\u001b[0m\u001b[1;33m)\u001b[0m\u001b[1;33m\u001b[0m\u001b[1;33m\u001b[0m\u001b[0m\n\u001b[0;32m    780\u001b[0m \u001b[1;33m\u001b[0m\u001b[0m\n\u001b[1;32m--> 781\u001b[1;33m         \u001b[0mfs\u001b[0m \u001b[1;33m=\u001b[0m \u001b[0mtf\u001b[0m\u001b[1;33m.\u001b[0m\u001b[0mio\u001b[0m\u001b[1;33m.\u001b[0m\u001b[0mgfile\u001b[0m\u001b[1;33m.\u001b[0m\u001b[0mget_filesystem\u001b[0m\u001b[1;33m(\u001b[0m\u001b[0msave_path\u001b[0m\u001b[1;33m)\u001b[0m\u001b[1;33m\u001b[0m\u001b[1;33m\u001b[0m\u001b[0m\n\u001b[0m\u001b[0;32m    782\u001b[0m         \u001b[1;32mif\u001b[0m \u001b[0mfs\u001b[0m\u001b[1;33m.\u001b[0m\u001b[0mexists\u001b[0m\u001b[1;33m(\u001b[0m\u001b[0msave_path\u001b[0m\u001b[1;33m)\u001b[0m\u001b[1;33m:\u001b[0m\u001b[1;33m\u001b[0m\u001b[1;33m\u001b[0m\u001b[0m\n\u001b[0;32m    783\u001b[0m             \u001b[1;32mif\u001b[0m \u001b[0mfs\u001b[0m\u001b[1;33m.\u001b[0m\u001b[0misdir\u001b[0m\u001b[1;33m(\u001b[0m\u001b[0msave_path\u001b[0m\u001b[1;33m)\u001b[0m\u001b[1;33m:\u001b[0m\u001b[1;33m\u001b[0m\u001b[1;33m\u001b[0m\u001b[0m\n",
      "\u001b[1;32m~\\AppData\\Roaming\\Python\\Python36\\site-packages\\tensorflow\\python\\util\\deprecation_wrapper.py\u001b[0m in \u001b[0;36m__getattr__\u001b[1;34m(self, name)\u001b[0m\n\u001b[0;32m    104\u001b[0m     \u001b[1;32mif\u001b[0m \u001b[0mname\u001b[0m\u001b[1;33m.\u001b[0m\u001b[0mstartswith\u001b[0m\u001b[1;33m(\u001b[0m\u001b[1;34m'_dw_'\u001b[0m\u001b[1;33m)\u001b[0m\u001b[1;33m:\u001b[0m\u001b[1;33m\u001b[0m\u001b[1;33m\u001b[0m\u001b[0m\n\u001b[0;32m    105\u001b[0m       \u001b[1;32mraise\u001b[0m \u001b[0mAttributeError\u001b[0m\u001b[1;33m(\u001b[0m\u001b[1;34m'Accessing local variables before they are created.'\u001b[0m\u001b[1;33m)\u001b[0m\u001b[1;33m\u001b[0m\u001b[1;33m\u001b[0m\u001b[0m\n\u001b[1;32m--> 106\u001b[1;33m     \u001b[0mattr\u001b[0m \u001b[1;33m=\u001b[0m \u001b[0mgetattr\u001b[0m\u001b[1;33m(\u001b[0m\u001b[0mself\u001b[0m\u001b[1;33m.\u001b[0m\u001b[0m_dw_wrapped_module\u001b[0m\u001b[1;33m,\u001b[0m \u001b[0mname\u001b[0m\u001b[1;33m)\u001b[0m\u001b[1;33m\u001b[0m\u001b[1;33m\u001b[0m\u001b[0m\n\u001b[0m\u001b[0;32m    107\u001b[0m     if (self._dw_warning_count < _PER_MODULE_WARNING_LIMIT and\n\u001b[0;32m    108\u001b[0m         name not in self._dw_deprecated_printed):\n",
      "\u001b[1;31mAttributeError\u001b[0m: module 'tensorflow._api.v1.io.gfile' has no attribute 'get_filesystem'"
     ]
    }
   ],
   "source": [
    "images, labels = select_n_random(train_set.data, train_set.targets)\n",
    "\n",
    "class_labels = [classes[label] for label in labels]\n",
    "\n",
    "features = images.view(-1, 28 * 28)\n",
    "\n",
    "writer.add_embedding(features, metadata=class_labels, label_img=images.unsqueeze(1))\n",
    "writer.close()"
   ]
  },
  {
   "cell_type": "code",
   "execution_count": 39,
   "metadata": {},
   "outputs": [],
   "source": [
    "# Tracking model training with TensorBoard\n",
    "def images_to_probs(net, images):\n",
    "    output = net(images)\n",
    "    _, prediction_tensor = torch.max(output, 1)\n",
    "    predictions = np.squeeze(prediction_tensor.cpu().numpy())\n",
    "    return predictions, [fxnl.softmax(ele, dim=0)[idx].item() for idx, ele in zip(predictions, output)]\n",
    "\n",
    "def plot_classes_preds(net, images, labels):\n",
    "    predictions, probabilities = images_to_probs(net, images)\n",
    "    figure = plt.figure(figsize=(12, 48))\n",
    "\n",
    "    for idx in np.arange(4):\n",
    "        ax = figure.add_subplot(1, 4, idx + 1, xticks=[], yticks=[])\n",
    "        display_image(images[idx].cpu(), one_channel=True)\n",
    "        ax.set_title(\"{0}, {1:.1f}%\\n(label: {2})\".format(classes[predictions[idx]], probabilities[idx] * 100.0, classes[labels[idx]]), color=(\"green\" if predictions[idx] == labels[idx].item() else \"red\"))\n",
    "    return figure"
   ]
  },
  {
   "cell_type": "code",
   "execution_count": 40,
   "metadata": {},
   "outputs": [
    {
     "output_type": "stream",
     "name": "stdout",
     "text": "\nFinished training\n"
    }
   ],
   "source": [
    "# Sample Train Model\n",
    "running_loss= 0.0\n",
    "neural_net = NeuralNet().to(gpu_device)\n",
    "for epoch in range(1):\n",
    "    for idx, data in enumerate(train_loader, 0):\n",
    "        inputs, labels = data[0].to(gpu_device), data[1].to(gpu_device)\n",
    "        optimizer_function.zero_grad()\n",
    "        outputs = neural_net(inputs)\n",
    "        loss = loss_function(outputs, labels)\n",
    "        loss.backward()\n",
    "        optimizer_function.step()\n",
    "\n",
    "        running_loss += loss.item()\n",
    "        if idx % 1000 == 999:\n",
    "            # Tesnorboard write loss\n",
    "            writer.add_scalar(\"training_loss\", running_loss / 1000, epoch * len(train_loader) + idx)\n",
    "\n",
    "            writer.add_figure(\"predictions vs. actuals\", plot_classes_preds(neural_net, inputs, labels), global_step=epoch * len(train_loader) + idx)\n",
    "\n",
    "            running_loss = 0.0\n",
    "print()\n",
    "print(\"Finished training\")"
   ]
  },
  {
   "cell_type": "code",
   "execution_count": null,
   "metadata": {},
   "outputs": [],
   "source": [
    "# Accessing trained models with TensorBoard\n",
    "\n",
    "class_probs = []\n",
    "class_preds = []\n",
    "\n",
    "with torch.no_grad():\n",
    "    for data in test_loader:\n",
    "        images, labels = data[0].to(gpu_device), data[1].to(gpu_device)\n",
    "        output = neural_net(images)\n",
    "        class_probs_batch = [fxnl.softmax(ele, dim=0) for ele in output]\n",
    "        _, class_preds_batch = torch.max(output, 1)\n",
    "\n",
    "        class_probs.append(class_probs_batch)\n",
    "        class_preds.append(class_preds_batch)\n",
    "\n",
    "test_probs = torch.cat([torch.stack(batch) for batch in class_probs])\n",
    "test_preds = torch.cat(class_preds)\n",
    "\n",
    "def add_pr_curve_tensorboard(class_index, test_probs, test_preds, global_step=0):\n",
    "    tensorboard_preds = test_preds == class_index\n",
    "    tensorboard_probs = test_probs[:, class_index]\n",
    "\n",
    "    writer.add_pr_curve(classes[class_index], tensorboard_preds, tensorboard_probs, global_step=global_step)\n",
    "    writer.close()\n",
    "\n",
    ""
   ]
  },
  {
   "cell_type": "code",
   "execution_count": null,
   "metadata": {},
   "outputs": [],
   "source": [
    "for idx in range(len(classes)):\n",
    "    add_pr_curve_tensorboard(idx, test_probs, test_preds)"
   ]
  },
  {
   "cell_type": "code",
   "execution_count": null,
   "metadata": {},
   "outputs": [],
   "source": []
  }
 ]
}