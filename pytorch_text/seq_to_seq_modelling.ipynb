{
 "nbformat": 4,
 "nbformat_minor": 2,
 "metadata": {
  "language_info": {
   "name": "python",
   "codemirror_mode": {
    "name": "ipython",
    "version": 3
   },
   "version": "3.6.10-final"
  },
  "orig_nbformat": 2,
  "file_extension": ".py",
  "mimetype": "text/x-python",
  "name": "python",
  "npconvert_exporter": "python",
  "pygments_lexer": "ipython3",
  "version": 3,
  "kernelspec": {
   "name": "python361064bitpytorchpython36conda67ab338b5aea4512a55c45a4f56020b8",
   "display_name": "Python 3.6.10 64-bit ('pytorch_python_36': conda)"
  }
 },
 "cells": [
  {
   "cell_type": "code",
   "execution_count": 1,
   "metadata": {},
   "outputs": [],
   "source": [
    "# Import Statements\n",
    "import math\n",
    "import time\n",
    "\n",
    "import torch\n",
    "import torch.nn as nn\n",
    "import torch.nn.functional as fxnl\n",
    "\n",
    "from torch.nn import TransformerEncoder, TransformerEncoderLayer\n",
    "\n",
    "import torchtext as t_txt\n",
    "\n",
    "from torchtext.data.utils import get_tokenizer"
   ]
  },
  {
   "cell_type": "code",
   "execution_count": 2,
   "metadata": {},
   "outputs": [],
   "source": [
    "#  AIM: Train a sequence to sequence model.\n",
    "# Define the model.\n",
    "\n",
    "class TransformerModel(nn.Module):\n",
    "\n",
    "    def __init__(self, n_token, n_inp, n_head, n_hid, n_layers, drop_out=0.5):\n",
    "        super(TransformerModel, self).__init__()\n",
    "\n",
    "        self.model_type = 'Transformer'\n",
    "        self.source_mask = None\n",
    "        self.positional_encoder = PositionalEncoding(n_inp, drop_out)\n",
    "\n",
    "        encoder_layers = TransformerEncoderLayer(n_inp, n_head, n_hid, drop_out)\n",
    "\n",
    "        self.transformer_encoder = TransformerEncoder(encoder_layer=encoder_layers, num_layers=n_layers)\n",
    "        self.encoder = nn.Embedding(n_token, n_inp)\n",
    "        self.n_inp = n_inp\n",
    "        self.decoder = nn.Linear(n_inp, n_token)\n",
    "\n",
    "        self.initialize_weights()\n",
    "    \n",
    "    def generate_square_subsequent_mask(self, size):\n",
    "        mask = (torch.triu(torch.ones(size, size)) == 1).transpose(0, 1)\n",
    "        mask = mask.float().masked_fill(mask == 0, float('-inf')).masked_fill(mask == 1, float(0.0))\n",
    "        return mask\n",
    "\n",
    "    def initialize_weights(self):\n",
    "        initial_range = 0.1\n",
    "        \n",
    "        self.encoder.weight.data.uniform_(-initial_range, initial_range)\n",
    "        self.decoder.bias.data.zero_()\n",
    "        self.decoder.weight.data.uniform_(-initial_range, initial_range)\n",
    "\n",
    "    def forward(self, source):\n",
    "        if self.source_mask is None or self.source_mask.size(0) != len(source):\n",
    "            device = source.device\n",
    "            mask = self.generate_square_subsequent_mask(size=len(source)).to(device)\n",
    "            self.source_mask = mask\n",
    "        \n",
    "        source = self.encoder(source) * math.sqrt(self.n_inp)\n",
    "        source = self.positional_encoder(source)\n",
    "        out_put = self.transformer_encoder(source, self.source_mask)\n",
    "        out_put = self.decoder(out_put)\n",
    "        return out_put\n",
    ""
   ]
  },
  {
   "cell_type": "code",
   "execution_count": 3,
   "metadata": {},
   "outputs": [],
   "source": [
    "class PositionalEncoding(nn.Module):\n",
    "\n",
    "    def __init__(self, d_model, drop_out=0.1, max_length=5000):\n",
    "        super(PositionalEncoding, self).__init__()\n",
    "        self.drop_out = nn.Dropout(p=drop_out)\n",
    "\n",
    "        pe = torch.zeros(max_length, d_model)\n",
    "        position = torch.arange(start=0, end=max_length, dtype=torch.float).unsqueeze(1)\n",
    "        div_term = torch.exp(torch.arange(0, d_model, 2).float() * (-math.log(10000.0) / d_model))\n",
    "\n",
    "        pe[:, 0::2] = torch.sin(position * div_term)\n",
    "        pe[:, 1::2] = torch.cos(position * div_term)\n",
    "        pe = pe.unsqueeze(0).transpose(0, 1)\n",
    "\n",
    "        self.register_buffer('pe', pe)\n",
    "    \n",
    "    def forward(self, input_tensor):\n",
    "        input_tensor = input_tensor + self.pe[:input_tensor.size(0), :]\n",
    "        return self.drop_out(input_tensor)"
   ]
  },
  {
   "cell_type": "code",
   "execution_count": 4,
   "metadata": {},
   "outputs": [],
   "source": [
    "# Load and Batch Data\n",
    "\n",
    "TEXT_DATA = t_txt.data.Field(tokenize=get_tokenizer(\"basic_english\"), init_token='<sos>', eos_token='<eos', lower=True)\n",
    "\n",
    "train_txt_dataset, valid_txt_dataset, test_txt_dataset = t_txt.datasets.WikiText2.splits(TEXT_DATA)\n",
    "TEXT_DATA.build_vocab(train_txt_dataset)\n",
    "\n",
    "device = torch.device(\"cuda\" if torch.cuda.is_available() else \"cpu\")\n",
    "\n",
    "def batchify(data, batches):\n",
    "    data = TEXT_DATA.numericalize([data.examples[0].text])\n",
    "\n",
    "    num_batch = data.size(0) // batch_size\n",
    "    \n",
    "    data = data.narrow(0, 0, num_batch * batches)\n",
    "    data = data.view(batch_size, -1).t().contiguous()\n",
    "    return data.to(device)\n",
    "\n",
    "batch_size = 20\n",
    "eval_batch_size = 10\n",
    "train_dataset = batchify(train_txt_dataset, batch_size)\n",
    "valid_dataset = batchify(valid_txt_dataset, eval_batch_size)\n",
    "test_dataset = batchify(test_txt_dataset, eval_batch_size)"
   ]
  },
  {
   "cell_type": "code",
   "execution_count": 5,
   "metadata": {},
   "outputs": [],
   "source": [
    "# Functions to generate input and target sequence\n",
    "bptt = 35\n",
    "def get_batch(source, index):\n",
    "    sequence_length = min(bptt, len(source) - 1 - index)\n",
    "    data = source[index: index + sequence_length]\n",
    "    target = source[index + 1: sequence_length + 1 + index].view(-1)\n",
    "    return data, target"
   ]
  },
  {
   "cell_type": "code",
   "execution_count": 6,
   "metadata": {},
   "outputs": [],
   "source": [
    "# Initiate an instance\n",
    "# Hyper-Parameters\n",
    "\n",
    "num_tokens = len(TEXT_DATA.vocab.stoi) # Size of the vocabulary\n",
    "embedding_size = 200 # Embedding dimension/size\n",
    "num_hidden = 200 # Dimension of the feed forward network model in nn.TransformerEncoder\n",
    "num_layers = 2 # Number of nn.TranformerEncoderLayer\n",
    "num_head = 2 # Number of heads in the multi-head attention models\n",
    "drop_out = 0.2 # Drop out value\n",
    "model = TransformerModel(num_tokens, embedding_size, num_head, num_hidden, num_layers, drop_out).to(device)"
   ]
  },
  {
   "cell_type": "code",
   "execution_count": 7,
   "metadata": {},
   "outputs": [],
   "source": [
    "# Run model\n",
    "\n",
    "loss_function = nn.CrossEntropyLoss()\n",
    "learning_rate = 5.0\n",
    "optimizer = torch.optim.SGD(model.parameters(), lr=learning_rate)\n",
    "scheduler = torch.optim.lr_scheduler.StepLR(optimizer, 1.0, gamma=0.95)\n",
    "\n",
    "\n",
    ""
   ]
  },
  {
   "cell_type": "code",
   "execution_count": 8,
   "metadata": {},
   "outputs": [],
   "source": [
    "# Train Function/ Method\n",
    "\n",
    "def train():\n",
    "    model.train() # Turn on train mode\n",
    "\n",
    "    total_loss = 0.0 \n",
    "    start_time = time.time()\n",
    "    num_tokens = len(TEXT_DATA.vocab.stoi)\n",
    "\n",
    "    for batch, idx in enumerate(range(0, train_dataset.size(0) - 1, bptt)):\n",
    "        data, targets = get_batch(train_dataset, idx)\n",
    "        optimizer.zero_grad()\n",
    "        output = model(data)\n",
    "        loss = loss_function(output.view(-1, num_tokens), targets)\n",
    "        loss.backward()\n",
    "        torch.nn.utils.clip_grad_norm_(model.parameters(), 0.5)\n",
    "        optimizer.step()\n",
    "\n",
    "        total_loss += loss.item()\n",
    "        log_interval = 200\n",
    "\n",
    "        if batch % log_interval == 0 and batch > 0:\n",
    "            current_loss = total_loss / log_interval\n",
    "            elapsed_time = time.time() - start_time\n",
    "\n",
    "            print('| epoch {:3d} | {:5d}/{:5d} batches | '\n",
    "                  'lr {:02.2f} | ms/batch {:5.2f} | '\n",
    "                  'loss {:5.2f} | ppl {:8.2f}'.format(\n",
    "                    epoch, batch, len(train_dataset) // bptt, scheduler.get_lr()[0],\n",
    "                    elapsed_time * 1000 / log_interval,\n",
    "                    current_loss, math.exp(current_loss)))\n",
    "            \n",
    "            total_loss = 0\n",
    "            start_time = time.time()\n",
    ""
   ]
  },
  {
   "cell_type": "code",
   "execution_count": 9,
   "metadata": {},
   "outputs": [],
   "source": [
    "def evaluate_model(eval_model, data_source):\n",
    "    eval_model.eval()\n",
    "    total_loss = 0\n",
    "    num_tokens = len(TEXT_DATA.vocab.stoi)\n",
    "\n",
    "    with torch.no_grad():\n",
    "        for idx in range(0, data_source.size(0) - 1, bptt):\n",
    "            data, targets = get_batch(data_source, idx)\n",
    "            output = eval_model(data)\n",
    "            output_flat = output.view(-1, num_tokens)\n",
    "            total_loss += len(data) * loss_function(output_flat, targets).item()\n",
    "    return total_loss / (len(data_source) - 1)"
   ]
  },
  {
   "cell_type": "code",
   "execution_count": 10,
   "metadata": {},
   "outputs": [
    {
     "output_type": "stream",
     "name": "stdout",
     "text": "| epoch   1 |   200/ 2981 batches | lr 5.00 | ms/batch 70.81 | loss  8.00 | ppl  2982.90\n| epoch   1 |   400/ 2981 batches | lr 5.00 | ms/batch 64.64 | loss  6.77 | ppl   872.78\n| epoch   1 |   600/ 2981 batches | lr 5.00 | ms/batch 63.71 | loss  6.35 | ppl   575.07\n| epoch   1 |   800/ 2981 batches | lr 5.00 | ms/batch 62.70 | loss  6.23 | ppl   505.45\n| epoch   1 |  1000/ 2981 batches | lr 5.00 | ms/batch 65.03 | loss  6.12 | ppl   453.19\n| epoch   1 |  1200/ 2981 batches | lr 5.00 | ms/batch 63.57 | loss  6.08 | ppl   436.93\n| epoch   1 |  1400/ 2981 batches | lr 5.00 | ms/batch 64.17 | loss  6.04 | ppl   421.66\n| epoch   1 |  1600/ 2981 batches | lr 5.00 | ms/batch 64.66 | loss  6.05 | ppl   425.42\n| epoch   1 |  1800/ 2981 batches | lr 5.00 | ms/batch 66.05 | loss  5.95 | ppl   382.88\n| epoch   1 |  2000/ 2981 batches | lr 5.00 | ms/batch 69.58 | loss  5.96 | ppl   389.01\n| epoch   1 |  2200/ 2981 batches | lr 5.00 | ms/batch 66.22 | loss  5.84 | ppl   345.02\n| epoch   1 |  2400/ 2981 batches | lr 5.00 | ms/batch 64.62 | loss  5.89 | ppl   363.21\n| epoch   1 |  2600/ 2981 batches | lr 5.00 | ms/batch 63.29 | loss  5.90 | ppl   364.67\n| epoch   1 |  2800/ 2981 batches | lr 5.00 | ms/batch 62.80 | loss  5.79 | ppl   328.26\n-----------------------------------------------------------------------------------------\n| end of epoch   1 | time: 197.88s | valid loss  5.67 | valid ppl   289.68\n-----------------------------------------------------------------------------------------\n| epoch   2 |   200/ 2981 batches | lr 4.51 | ms/batch 61.79 | loss  5.80 | ppl   331.37\n| epoch   2 |   400/ 2981 batches | lr 4.51 | ms/batch 62.16 | loss  5.77 | ppl   320.87\n| epoch   2 |   600/ 2981 batches | lr 4.51 | ms/batch 60.34 | loss  5.59 | ppl   268.83\n| epoch   2 |   800/ 2981 batches | lr 4.51 | ms/batch 61.23 | loss  5.63 | ppl   279.83\n| epoch   2 |  1000/ 2981 batches | lr 4.51 | ms/batch 63.33 | loss  5.59 | ppl   267.52\n| epoch   2 |  1200/ 2981 batches | lr 4.51 | ms/batch 63.66 | loss  5.62 | ppl   276.33\n| epoch   2 |  1400/ 2981 batches | lr 4.51 | ms/batch 65.33 | loss  5.63 | ppl   279.66\n| epoch   2 |  1600/ 2981 batches | lr 4.51 | ms/batch 63.10 | loss  5.67 | ppl   289.67\n| epoch   2 |  1800/ 2981 batches | lr 4.51 | ms/batch 61.95 | loss  5.58 | ppl   266.09\n| epoch   2 |  2000/ 2981 batches | lr 4.51 | ms/batch 63.25 | loss  5.61 | ppl   274.23\n| epoch   2 |  2200/ 2981 batches | lr 4.51 | ms/batch 63.93 | loss  5.51 | ppl   246.40\n| epoch   2 |  2400/ 2981 batches | lr 4.51 | ms/batch 62.78 | loss  5.58 | ppl   265.09\n| epoch   2 |  2600/ 2981 batches | lr 4.51 | ms/batch 62.69 | loss  5.58 | ppl   265.24\n| epoch   2 |  2800/ 2981 batches | lr 4.51 | ms/batch 62.61 | loss  5.51 | ppl   247.14\n-----------------------------------------------------------------------------------------\n| end of epoch   2 | time: 189.58s | valid loss  5.51 | valid ppl   247.86\n-----------------------------------------------------------------------------------------\n| epoch   3 |   200/ 2981 batches | lr 4.29 | ms/batch 64.62 | loss  5.55 | ppl   257.35\n| epoch   3 |   400/ 2981 batches | lr 4.29 | ms/batch 64.49 | loss  5.55 | ppl   256.95\n| epoch   3 |   600/ 2981 batches | lr 4.29 | ms/batch 63.64 | loss  5.36 | ppl   213.27\n| epoch   3 |   800/ 2981 batches | lr 4.29 | ms/batch 62.24 | loss  5.42 | ppl   226.07\n| epoch   3 |  1000/ 2981 batches | lr 4.29 | ms/batch 61.95 | loss  5.37 | ppl   214.27\n| epoch   3 |  1200/ 2981 batches | lr 4.29 | ms/batch 62.34 | loss  5.41 | ppl   224.15\n| epoch   3 |  1400/ 2981 batches | lr 4.29 | ms/batch 62.22 | loss  5.44 | ppl   229.77\n| epoch   3 |  1600/ 2981 batches | lr 4.29 | ms/batch 62.46 | loss  5.47 | ppl   238.25\n| epoch   3 |  1800/ 2981 batches | lr 4.29 | ms/batch 62.79 | loss  5.40 | ppl   221.76\n| epoch   3 |  2000/ 2981 batches | lr 4.29 | ms/batch 62.35 | loss  5.44 | ppl   229.99\n| epoch   3 |  2200/ 2981 batches | lr 4.29 | ms/batch 65.15 | loss  5.31 | ppl   203.12\n| epoch   3 |  2400/ 2981 batches | lr 4.29 | ms/batch 63.61 | loss  5.39 | ppl   219.14\n| epoch   3 |  2600/ 2981 batches | lr 4.29 | ms/batch 58.41 | loss  5.42 | ppl   224.77\n| epoch   3 |  2800/ 2981 batches | lr 4.29 | ms/batch 56.89 | loss  5.33 | ppl   205.63\n-----------------------------------------------------------------------------------------\n| end of epoch   3 | time: 187.28s | valid loss  5.47 | valid ppl   236.81\n-----------------------------------------------------------------------------------------\n"
    }
   ],
   "source": [
    "best_validation_loss = float(\"inf\")\n",
    "epochs = 3\n",
    "best_model = None\n",
    "\n",
    "for epoch in range(1, epochs + 1):\n",
    "    epoch_start_time = time.time()\n",
    "    train()\n",
    "    validation_loss = evaluate_model(model, valid_dataset)\n",
    "    print(\"-\" * 89)\n",
    "    print('| end of epoch {:3d} | time: {:5.2f}s | valid loss {:5.2f} | ' 'valid ppl {:8.2f}'.format(epoch,     (time.time() - epoch_start_time), validation_loss, math.exp(validation_loss)))\n",
    "    print('-' * 89)\n",
    "\n",
    "    if validation_loss < best_validation_loss:\n",
    "        best_validation_loss = validation_loss\n",
    "        best_model = model\n",
    "    \n",
    "    scheduler.step()\n",
    ""
   ]
  },
  {
   "cell_type": "code",
   "execution_count": 11,
   "metadata": {},
   "outputs": [
    {
     "output_type": "stream",
     "name": "stdout",
     "text": "=========================================================================================\n| End of training | test loss  5.38 | test ppl   218.08\n=========================================================================================\n"
    }
   ],
   "source": [
    "test_loss = evaluate_model(best_model, test_dataset)\n",
    "print('=' * 89)\n",
    "print('| End of training | test loss {:5.2f} | test ppl {:8.2f}'.format(test_loss, math.exp(test_loss)))\n",
    "print('=' * 89)"
   ]
  },
  {
   "cell_type": "code",
   "execution_count": null,
   "metadata": {},
   "outputs": [],
   "source": []
  }
 ]
}