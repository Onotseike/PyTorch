{
 "nbformat": 4,
 "nbformat_minor": 2,
 "metadata": {
  "language_info": {
   "name": "python",
   "codemirror_mode": {
    "name": "ipython",
    "version": 3
   },
   "version": "3.6.10-final"
  },
  "orig_nbformat": 2,
  "file_extension": ".py",
  "mimetype": "text/x-python",
  "name": "python",
  "npconvert_exporter": "python",
  "pygments_lexer": "ipython3",
  "version": 3,
  "kernelspec": {
   "name": "python361064bitpytorchpython36conda67ab338b5aea4512a55c45a4f56020b8",
   "display_name": "Python 3.6.10 64-bit ('pytorch_python_36': conda)"
  }
 },
 "cells": [
  {
   "cell_type": "code",
   "execution_count": 11,
   "metadata": {},
   "outputs": [],
   "source": [
    "# Import statements\n",
    "import torch\n",
    "import torchvision as tv\n",
    "from torchvision.models.detection.faster_rcnn import FastRCNNPredictor as faster_rcnn_predictor\n",
    "import torch.utils.tensorboard\n",
    "import os\n",
    "import numpy as np\n",
    "from PIL import Image "
   ]
  },
  {
   "cell_type": "code",
   "execution_count": 12,
   "metadata": {},
   "outputs": [],
   "source": [
    "# Dataset Sub Class\n",
    "class PennFudanDataset(object):\n",
    "    def __init__(self, root, transforms):\n",
    "        self.root = root\n",
    "        self.transforms = transforms\n",
    "\n",
    "        self.images = list(sorted(os.listdir(os.path.join(root, \"PNGImages\"))))\n",
    "        self.masks = list(sorted(os.listdir(os.path.join(root, \"PEDMasks\"))))\n",
    "    \n",
    "    def __getitem__(self, idx):\n",
    "        image_path = os.path.join(self.root, \"PNGImages\", self.images[idx])\n",
    "        mask_path = os.path.join(self.root, \"PedMasks\", self.masks[idx])\n",
    "\n",
    "        image = Image.open(image_path).convert(\"RGB\")\n",
    "\n",
    "        mask = Image.open(mask_path)\n",
    "        mask = np.array(mask)\n",
    "\n",
    "        object_ids = np.unique(mask)\n",
    "        object_ids = object_ids[1:]\n",
    "\n",
    "        masks = mask == object_ids[:, None, None]\n",
    "\n",
    "        number_objs = len(object_ids)\n",
    "        boxes = []\n",
    "        for index in range(number_objs):\n",
    "            position = np.where(masks[index])\n",
    "            x_min = np.min(position[1])\n",
    "            x_max = np.max(position[1])\n",
    "            y_min = np.min(position[0])\n",
    "            y_max = np.max(position[0])\n",
    "            boxes.append([x_min, y_min, x_max, y_max])\n",
    "        \n",
    "        target = {\n",
    "            \"boxes\": torch.as_tensor(boxes, dtype=torch.float32),\n",
    "            \"labels\": torch.ones((number_objs, ), dtype=torch.int64),\n",
    "            \"masks\": torch.as_tensor(masks, dtype=torch.uint8),\n",
    "            \"image_id\": torch.tensor(idx),\n",
    "            \"area\": (boxes[:, 3] - boxes[:, 1]) * (boxes[:, 2] - boxes[:, 0]),\n",
    "            \"iscrowd\": torch.zeros((number_objs, ), dtype=torch.int64)\n",
    "        }\n",
    "\n",
    "        if self.transforms is not None:\n",
    "            image, target = self.transforms(image, target)\n",
    "\n",
    "        return image, target\n",
    "    \n",
    "    def __len__(self):\n",
    "        return len(self.images)"
   ]
  },
  {
   "cell_type": "code",
   "execution_count": 13,
   "metadata": {},
   "outputs": [
    {
     "output_type": "execute_result",
     "data": {
      "text/plain": "'0.5.0'"
     },
     "metadata": {},
     "execution_count": 13
    }
   ],
   "source": [
    "import torchvision\n",
    "torchvision.__version__\n",
    ""
   ]
  },
  {
   "cell_type": "code",
   "execution_count": null,
   "metadata": {},
   "outputs": [],
   "source": []
  }
 ]
}