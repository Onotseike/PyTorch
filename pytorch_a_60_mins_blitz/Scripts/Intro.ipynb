{
 "nbformat": 4,
 "nbformat_minor": 2,
 "metadata": {
  "language_info": {
   "name": "python",
   "codemirror_mode": {
    "name": "ipython",
    "version": 3
   },
   "version": "3.7.7-final"
  },
  "orig_nbformat": 2,
  "file_extension": ".py",
  "mimetype": "text/x-python",
  "name": "python",
  "npconvert_exporter": "python",
  "pygments_lexer": "ipython3",
  "version": 3,
  "kernelspec": {
   "name": "python37764bite650467ef4694640988010b9b7823d44",
   "display_name": "Python 3.7.7 64-bit"
  }
 },
 "cells": [
  {
   "cell_type": "code",
   "execution_count": null,
   "metadata": {},
   "outputs": [],
   "source": [
    "# Tensors: similar to NumPy N dimensional arrays (NDArrays) with the added advantage of being utilized in a GPU to accelerate computing."
   ]
  },
  {
   "cell_type": "code",
   "execution_count": null,
   "metadata": {},
   "outputs": [],
   "source": [
    "from __future__ import print_function\n",
    "import torch\n",
    "import numpy as np\n",
    "import pan"
   ]
  },
  {
   "cell_type": "code",
   "execution_count": null,
   "metadata": {},
   "outputs": [],
   "source": [
    "# Empty Tensor\n",
    "emptyTensor = torch.empty(2,2)\n",
    "print(emptyTensor)"
   ]
  },
  {
   "cell_type": "code",
   "execution_count": null,
   "metadata": {},
   "outputs": [],
   "source": [
    "# Randomily Initialized Tensor\n",
    "randTensor = torch.rand(2,2)\n",
    "print(randTensor)"
   ]
  },
  {
   "cell_type": "code",
   "execution_count": null,
   "metadata": {},
   "outputs": [],
   "source": [
    "# Zero filled Tensor dtype.long\n",
    "zeroTensor = torch.zeros(5, 3, dtype= torch.long)\n",
    "print(zeroTensor)"
   ]
  },
  {
   "cell_type": "code",
   "execution_count": null,
   "metadata": {},
   "outputs": [],
   "source": [
    "# Construct Tensor directly from Data\n",
    "directTensor = torch.tensor([10.5,5])\n",
    "print(directTensor)\n",
    "\n",
    "# Update exisitng Tensor\n",
    "directTensor = directTensor.new_ones(5, 3, dtype=torch.double)\n",
    "print(directTensor)\n",
    "\n",
    "directTensor = torch.randn_like(directTensor, dtype=torch.float)\n",
    "print(directTensor)"
   ]
  },
  {
   "cell_type": "code",
   "execution_count": null,
   "metadata": {},
   "outputs": [],
   "source": [
    "# Get Size\n",
    "print(directTensor.size())"
   ]
  },
  {
   "cell_type": "code",
   "execution_count": null,
   "metadata": {},
   "outputs": [],
   "source": [
    "# Operations\n",
    "#Addition\n",
    "print(directTensor + directTensor)\n",
    "print()\n",
    "print(torch.add(directTensor, directTensor))\n",
    "print()\n",
    "torch.add(directTensor, directTensor, out=directTensor)\n",
    "print(zeroTensor)\n",
    "print()\n",
    "randTensor.add_(randTensor)\n",
    "print(randTensor)\n",
    "\n",
    "# Numpy Indexing\n",
    "print()\n",
    "print(randTensor[:, 1])\n",
    "\n",
    "# Reshaping/Resizing\n",
    "tensor_one = torch.randn(4, 4)\n",
    "tensor_two = tensor_one.view(16)\n",
    "tensor_three = tensor_two.view(-1, 8)\n",
    "tensor_four = tensor_one.view(8, -1)\n",
    "print(tensor_one.size(), tensor_two.size(), tensor_three.size(), tensor_four.size())\n",
    "print()\n",
    "\n",
    "# Printing Python number\n",
    "one_tensor = torch.randn(1)\n",
    "print(one_tensor, one_tensor.item())\n",
    ""
   ]
  },
  {
   "cell_type": "code",
   "execution_count": null,
   "metadata": {},
   "outputs": [],
   "source": [
    "# Numpy Bridge\n",
    "# Tensor to Numpy Array\n",
    "\n",
    "tensor_variable = torch.ones(5)\n",
    "numpy_variable = tensor_variable.numpy()\n",
    "print(tensor_variable)\n",
    "print()\n",
    "print(numpy_variable)"
   ]
  },
  {
   "cell_type": "code",
   "execution_count": null,
   "metadata": {},
   "outputs": [],
   "source": [
    "tensor_variable.add_(1)\n",
    "print(tensor_variable, numpy_variable)"
   ]
  },
  {
   "cell_type": "code",
   "execution_count": null,
   "metadata": {},
   "outputs": [],
   "source": [
    "# Numpy Array to Tensor\n",
    "new_tensor_variable = torch.from_numpy(numpy_variable)\n",
    "print(new_tensor_variable)\n",
    "np.add(numpy_variable, 1, out=numpy_variable)\n",
    "print(numpy_variable, new_tensor_variable, tensor_variable)"
   ]
  },
  {
   "cell_type": "code",
   "execution_count": 23,
   "metadata": {},
   "outputs": [
    {
     "output_type": "stream",
     "name": "stdout",
     "text": "tensor([5., 5., 5., 5., 5.], device='cuda:0')\ntensor([5., 5., 5., 5., 5.], dtype=torch.float64)\n"
    }
   ],
   "source": [
    "# CUDA Tensors\n",
    "if torch.cuda.is_available():\n",
    "    device = torch.device(\"cuda\")\n",
    "    tensor_var_gpu = torch.ones_like(tensor_variable, device=device)\n",
    "    tensor_var_gpu_one = tensor_variable.to(device)\n",
    "    new_tensor_gpu = tensor_var_gpu + tensor_var_gpu_one\n",
    "\n",
    "    print(new_tensor_gpu)\n",
    "    print(new_tensor_gpu.to(\"cpu\", torch.double))"
   ]
  },
  {
   "cell_type": "code",
   "execution_count": 26,
   "metadata": {},
   "outputs": [
    {
     "output_type": "stream",
     "name": "stdout",
     "text": "1\n0\nGeForce GTX 1050\n"
    }
   ],
   "source": [
    "print(torch.cuda.device_count())\n",
    "print(torch.cuda.current_device())\n",
    "print(torch.cuda.get_device_name(device))\n",
    "print(torch.device())"
   ]
  }
 ]
}